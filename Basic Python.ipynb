{
  "nbformat": 4,
  "nbformat_minor": 0,
  "metadata": {
    "colab": {
      "provenance": [],
      "collapsed_sections": [
        "nTORPoZTEaOl",
        "0WRKO2W5NGEn",
        "zH-6pK-QNSHG",
        "dFwTBi_hNTk2",
        "dlWREBRiNTTl",
        "G-wBVlJ0NT4u"
      ],
      "authorship_tag": "ABX9TyMcJ5e4I1UJyH3SQVEWfJlQ"
    },
    "kernelspec": {
      "name": "python3",
      "display_name": "Python 3"
    },
    "language_info": {
      "name": "python"
    }
  },
  "cells": [
    {
      "cell_type": "markdown",
      "source": [
        "# **Topics**\n"
      ],
      "metadata": {
        "id": "nTORPoZTEaOl"
      }
    },
    {
      "cell_type": "markdown",
      "source": [
        "\n",
        "1. Variables and Data Types\n",
        "\n",
        "  1.1  \n",
        "2. Control Structures\n",
        "\n",
        "3.  Functions\n",
        "\n",
        "4. Object-Oriented Programming\n",
        "\n",
        "5. File I/O and Libraries\n",
        "\n",
        "\n",
        "\n"
      ],
      "metadata": {
        "id": "XN_PSrDrFZHO"
      }
    },
    {
      "cell_type": "markdown",
      "source": [
        "# **1. Variables and Data Types**"
      ],
      "metadata": {
        "id": "0WRKO2W5NGEn"
      }
    },
    {
      "cell_type": "code",
      "execution_count": null,
      "metadata": {
        "id": "ng3bFAtYEQkb"
      },
      "outputs": [],
      "source": []
    },
    {
      "cell_type": "markdown",
      "source": [
        "# **2. Control Structures**"
      ],
      "metadata": {
        "id": "zH-6pK-QNSHG"
      }
    },
    {
      "cell_type": "code",
      "source": [],
      "metadata": {
        "id": "dacOPZssNs1F"
      },
      "execution_count": null,
      "outputs": []
    },
    {
      "cell_type": "markdown",
      "source": [
        "# **4. Object-Oriented Programming**"
      ],
      "metadata": {
        "id": "dFwTBi_hNTk2"
      }
    },
    {
      "cell_type": "code",
      "source": [],
      "metadata": {
        "id": "3Sd-2lwSNt3_"
      },
      "execution_count": null,
      "outputs": []
    },
    {
      "cell_type": "markdown",
      "source": [
        "# **3. Functions**"
      ],
      "metadata": {
        "id": "dlWREBRiNTTl"
      }
    },
    {
      "cell_type": "code",
      "source": [],
      "metadata": {
        "id": "KqQUNnN1NtR9"
      },
      "execution_count": null,
      "outputs": []
    },
    {
      "cell_type": "markdown",
      "source": [
        "# **5. File I/O and Libraries**"
      ],
      "metadata": {
        "id": "G-wBVlJ0NT4u"
      }
    },
    {
      "cell_type": "code",
      "source": [],
      "metadata": {
        "id": "BcxX4XGANuWu"
      },
      "execution_count": null,
      "outputs": []
    }
  ]
}