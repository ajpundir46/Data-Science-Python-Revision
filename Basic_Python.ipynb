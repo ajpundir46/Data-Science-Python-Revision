{
  "nbformat": 4,
  "nbformat_minor": 0,
  "metadata": {
    "colab": {
      "provenance": [],
      "collapsed_sections": [
        "nTORPoZTEaOl",
        "zH-6pK-QNSHG",
        "dFwTBi_hNTk2",
        "dlWREBRiNTTl",
        "G-wBVlJ0NT4u"
      ],
      "authorship_tag": "ABX9TyMmb5eRSA42yhp1Di0eOZ1n"
    },
    "kernelspec": {
      "name": "python3",
      "display_name": "Python 3"
    },
    "language_info": {
      "name": "python"
    }
  },
  "cells": [
    {
      "cell_type": "markdown",
      "source": [
        "# **Topics**\n"
      ],
      "metadata": {
        "id": "nTORPoZTEaOl"
      }
    },
    {
      "cell_type": "markdown",
      "source": [
        "\n",
        "1. Variables and Data Types\n",
        "\n",
        "  1.1  Number\n",
        "\n",
        "  1.2 Variable Assignment\n",
        "\n",
        "  1.9 Comparison Operators\n",
        "\n",
        "  1.10 Sets\n",
        "2. Control Structures\n",
        "\n",
        "3.  Functions\n",
        "\n",
        "4. Object-Oriented Programming\n",
        "\n",
        "5. File I/O and Libraries\n",
        "\n",
        "\n",
        "\n"
      ],
      "metadata": {
        "id": "XN_PSrDrFZHO"
      }
    },
    {
      "cell_type": "markdown",
      "source": [
        "# **1. Variables, Operators and Data Types**"
      ],
      "metadata": {
        "id": "0WRKO2W5NGEn"
      }
    },
    {
      "cell_type": "markdown",
      "source": [
        "\n",
        "    strings :-   \"ABCD\", 'AbC'd'*64b6#4$@ *()'\n",
        "    integer :-   -1, -2, -3\n",
        "    float   :-   1.2, 42.42\n",
        "    boolean :-   True or False.\n",
        "    complex :-   1.0 + 2.0j,    1.5 + 2.5j\n"
      ],
      "metadata": {
        "id": "1TjvEK45r07v"
      }
    },
    {
      "cell_type": "markdown",
      "source": [
        "    Text Type:       \tstr\n",
        "    Numeric Types: \t  int, float, complex\n",
        "    Sequence Types: \tlist, tuple, range\n",
        "    Mapping Type: \t  dict\n",
        "    Set Types: \t      set, frozenset\n",
        "    Boolean Type: \t  bool\n",
        "    Binary Types:   \tbytes, bytearray, memoryview\n",
        "    None Type: \t      NoneType"
      ],
      "metadata": {
        "id": "kLBEQY6WDAAA"
      }
    },
    {
      "cell_type": "markdown",
      "source": [
        "## **1.1 Numbers**"
      ],
      "metadata": {
        "id": "7Kt0qLrnD226"
      }
    },
    {
      "cell_type": "code",
      "source": [
        "print(\"Addition (a+b):{}\".format(1+1))\n",
        "print(\"Subtraction (a-b):{}\".format(3-4))\n",
        "print(\"Multiplication (a*b): {} , Power (a**b):{}\".format(5*2,5**2))\n",
        "print(\"Remainder (a%b): {}\".format(5%2))\n",
        "print(\"Division or modulus (a/b): {}\".format(5/2))\n",
        "print(\"Floor division (a//b): {}\".format(5/2))"
      ],
      "metadata": {
        "id": "YI-3G_ltD5nZ",
        "colab": {
          "base_uri": "https://localhost:8080/"
        },
        "outputId": "89479988-32c3-47ba-ae2c-0233339a65be"
      },
      "execution_count": 139,
      "outputs": [
        {
          "output_type": "stream",
          "name": "stdout",
          "text": [
            "Addition (a+b):2\n",
            "Subtraction (a-b):-1\n",
            "Multiplication (a*b): 10 , Power (a**b):25\n",
            "Remainder (a%b): 1\n",
            "Division or modulus (a/b): 2.5\n",
            "Floor division (a//b): 2.5\n"
          ]
        }
      ]
    },
    {
      "cell_type": "code",
      "source": [
        "com=1+2j       #complex number\n",
        "print(com, type(com))"
      ],
      "metadata": {
        "colab": {
          "base_uri": "https://localhost:8080/"
        },
        "id": "W-oIZD5BLneI",
        "outputId": "8a130f2b-d1c9-45b2-e471-51141dfdff89"
      },
      "execution_count": 196,
      "outputs": [
        {
          "output_type": "stream",
          "name": "stdout",
          "text": [
            "(1+2j) <class 'complex'>\n"
          ]
        }
      ]
    },
    {
      "cell_type": "markdown",
      "source": [
        "## **1.2  Variable Assignment**"
      ],
      "metadata": {
        "id": "yfbsnubLLXv8"
      }
    },
    {
      "cell_type": "code",
      "execution_count": 29,
      "metadata": {
        "id": "ng3bFAtYEQkb",
        "colab": {
          "base_uri": "https://localhost:8080/"
        },
        "outputId": "237e8434-ae8b-44e9-9b79-65f91c63d131"
      },
      "outputs": [
        {
          "output_type": "stream",
          "name": "stdout",
          "text": [
            "name_of_var:2,  x:2.1,  y: -33,  z:-30.9,  (x+y):-30.9,  test:23\n",
            "  variable     |   value     |  type\n",
            "------------------------------------------\n",
            "name_of_var    |    2        |  <class 'int'>\n",
            "     x         |    2.1      |  <class 'float'>\n",
            "     y         |    -33      |  <class 'int'>\n",
            "     z         |    -30.9    |  <class 'float'>\n"
          ]
        }
      ],
      "source": [
        "name_of_var = 2   # Can not start with number or special characters\n",
        "x = 2.1      \n",
        "y = -33\n",
        "z=x+y\n",
        "print(\"name_of_var:{},  x:{},  y: {},  z:{},  (x+y):{},  test:{test}\".format(name_of_var,x,y,z,x+y,test=23))\n",
        "print('  variable     |   value     |  type')\n",
        "print(\"------------------------------------------\")\n",
        "print('name_of_var    |    {}        |  {}'.format(name_of_var,type(name_of_var)))\n",
        "print('     x         |    {}      |  {}'.format(x,type(x)))\n",
        "print('     y         |    {}      |  {}'.format(y,type(y)))\n",
        "print('     z         |    {}    |  {}'.format(z,type(z)))"
      ]
    },
    {
      "cell_type": "code",
      "source": [
        "var_ass=2.1\n",
        "var_ass1, var_ass2, var_ass3 =int(2.1),float(2.1), str(2.1)\n",
        "\n",
        "print(\"Normal ,   Value:  {},   Type:   {}\".format(var_ass,type(var_ass)))\n",
        "print(\"Integer,   Value:  {},   Type:   {}\".format(var_ass1,type(var_ass1)))\n",
        "print(\"Float  ,   Value:  {},   Type:   {}\".format(var_ass2,type(var_ass2)))\n",
        "print(\"String ,   Value:  {},   Type:   {}\".format(var_ass3,type(var_ass3)))"
      ],
      "metadata": {
        "colab": {
          "base_uri": "https://localhost:8080/"
        },
        "id": "VJdd5CVw1mqQ",
        "outputId": "d102f13b-7de8-4ef9-a8cb-d894fb0132b1"
      },
      "execution_count": 118,
      "outputs": [
        {
          "output_type": "stream",
          "name": "stdout",
          "text": [
            "Normal ,   Value:  2.1,   Type:   <class 'float'>\n",
            "Integer,   Value:  2,   Type:   <class 'int'>\n",
            "Float  ,   Value:  2.1,   Type:   <class 'float'>\n",
            "String ,   Value:  2.1,   Type:   <class 'str'>\n"
          ]
        }
      ]
    },
    {
      "cell_type": "code",
      "source": [
        "a1=a2=a3=24           #one value to multiple variables          \n",
        "print(\"a1:\",a1)\n",
        "print(\"a2:\",a2)\n",
        "print(\"a3:\",a3)"
      ],
      "metadata": {
        "colab": {
          "base_uri": "https://localhost:8080/"
        },
        "id": "dfJCY70v4ZwQ",
        "outputId": "3eda5e2c-895c-4f72-da01-358b45f1e673"
      },
      "execution_count": 128,
      "outputs": [
        {
          "output_type": "stream",
          "name": "stdout",
          "text": [
            "a1: 24\n",
            "a2: 24\n",
            "a3: 24\n"
          ]
        }
      ]
    },
    {
      "cell_type": "code",
      "source": [
        "alist=[1,2.1,'hi',[1,2]]           \n",
        "a1,a2,a3,a4=alist \n",
        "print('alist:',alist)                 #unpack elements of list ...Note: number of varible must be equal to number of elements\n",
        "print(\"a1:\",a1)\n",
        "print(\"a2:\",a2)\n",
        "print(\"a3:\",a3)\n",
        "print(\"a4:\",a4)"
      ],
      "metadata": {
        "colab": {
          "base_uri": "https://localhost:8080/"
        },
        "id": "q4xjQYrK45t4",
        "outputId": "ad70560a-4875-4b99-bc92-7dbb9d4937bd"
      },
      "execution_count": 131,
      "outputs": [
        {
          "output_type": "stream",
          "name": "stdout",
          "text": [
            "alist: [1, 2.1, 'hi', [1, 2]]\n",
            "a1: 1\n",
            "a2: 2.1\n",
            "a3: hi\n",
            "a4: [1, 2]\n"
          ]
        }
      ]
    },
    {
      "cell_type": "markdown",
      "source": [
        "## **1.3 Strings**"
      ],
      "metadata": {
        "id": "JcfgTKvYbOey"
      }
    },
    {
      "cell_type": "code",
      "source": [
        "a='string1'                                    \n",
        "b=\"string's\"\n",
        "print('single quotes,',\"double quotes\")                  \n",
        "print(\"wrap lot's of other quotes\")\n",
        "print('a+b:'+a+b,'end')           #+ sign don not provide space, \",\" sign provide space in printing\n",
        "print(\"a:{},\".format(a),\"b:{}\".format(b))\n",
        "print(\"Type of a: {}\".format(type(a)))"
      ],
      "metadata": {
        "colab": {
          "base_uri": "https://localhost:8080/"
        },
        "id": "oF4vyyGcdoRo",
        "outputId": "bcca83da-a14b-4b80-d6b7-d00a67fbbc1a"
      },
      "execution_count": 137,
      "outputs": [
        {
          "output_type": "stream",
          "name": "stdout",
          "text": [
            "single quotes, double quotes\n",
            "wrap lot's of other quotes\n",
            "a+b:string1string's end\n",
            "a:string1, b:string's\n",
            "Type of a: <class 'str'>\n"
          ]
        }
      ]
    },
    {
      "cell_type": "markdown",
      "source": [
        "## **1.4 Lists**\n"
      ],
      "metadata": {
        "id": "fYYt0g84jxd5"
      }
    },
    {
      "cell_type": "markdown",
      "source": [
        "    append() \tAdds an element at the end of the list\n",
        "    clear()\t  Removes all the elements from the list\n",
        "    copy()\t   Returns a copy of the list\n",
        "    count()\t  Returns the number of elements with the specified value\n",
        "    extend() \tAdd the elements of a list (or any iterable), to the end of the current list\n",
        "    index()\t  Returns the index of the first element with the specified value\n",
        "    insert()\t Adds an element at the specified position\n",
        "    pop()\t    Removes the element at the specified position\n",
        "    remove()     Removes the item with the specified value\n",
        "    reverse()\tReverses the order of the list\n",
        "    sort()\t   Sorts the list"
      ],
      "metadata": {
        "id": "HF8dgyGxgvmQ"
      }
    },
    {
      "cell_type": "code",
      "source": [
        "list_example=['hi',1,[1,2,[4,5,6]],'a']  #list=[string,list,float,int]                             #sequence type datatype\n",
        "                                         #array is a special type of list for same type of data set \n",
        "                                         #vector is a single dimention array\n",
        "print(list_example)\n",
        "print(\"Type:{}\".format(type(list_example)))\n",
        "print(\"Length:{}\".format(len(list_example)))\n",
        "print(\"Size of third index in list_example: {}\".format(len(list_example[2])))\n",
        "print(\"Call list element:{}, {}\".format(list_example[2][1],list_example[2][2][1]))"
      ],
      "metadata": {
        "colab": {
          "base_uri": "https://localhost:8080/"
        },
        "id": "D6rGWpy_j7Rp",
        "outputId": "0d89f9b0-ddb1-4ba2-87ea-f9b605fc45ed"
      },
      "execution_count": 273,
      "outputs": [
        {
          "output_type": "stream",
          "name": "stdout",
          "text": [
            "['hi', 1, [1, 2, [4, 5, 6]], 'a']\n",
            "Type:<class 'list'>\n",
            "Length:4\n",
            "Size of third index in list_example: 3\n",
            "Call list element:2, 5\n"
          ]
        }
      ]
    },
    {
      "cell_type": "code",
      "source": [
        "# count and clear\n",
        "print(list_example.count('hi'))\n",
        "list_example.clear()\n",
        "print(list_example.clear())\n",
        "list_example\n"
      ],
      "metadata": {
        "colab": {
          "base_uri": "https://localhost:8080/"
        },
        "id": "pc0dhq6-cgPh",
        "outputId": "75495d73-64f1-4c47-b795-ede68d4c1fb1"
      },
      "execution_count": 272,
      "outputs": [
        {
          "output_type": "stream",
          "name": "stdout",
          "text": [
            "0\n",
            "None\n"
          ]
        },
        {
          "output_type": "execute_result",
          "data": {
            "text/plain": [
              "[]"
            ]
          },
          "metadata": {},
          "execution_count": 272
        }
      ]
    },
    {
      "cell_type": "code",
      "source": [
        "fruits = [\"apple\", \"banana\", \"cherry\"]\n",
        "fruits.insert(1,\"lemon\")\n",
        "print(fruits)"
      ],
      "metadata": {
        "colab": {
          "base_uri": "https://localhost:8080/"
        },
        "id": "lsUWJWLMfTsY",
        "outputId": "0da976c7-e355-4d1c-ef8f-b675eaa2ce5a"
      },
      "execution_count": 277,
      "outputs": [
        {
          "output_type": "stream",
          "name": "stdout",
          "text": [
            "['apple', 'lemon', 'banana', 'cherry']\n"
          ]
        }
      ]
    },
    {
      "cell_type": "code",
      "source": [
        "list_example.append([45,'a'])         #add any type of single data in the end of the list\n",
        "print(list_example)\n",
        "print(\"length:{}\".format(len(list_example)))"
      ],
      "metadata": {
        "colab": {
          "base_uri": "https://localhost:8080/"
        },
        "id": "bm4DgQeHs91n",
        "outputId": "ec3582c1-7fb5-4ea7-a65c-0a29282ab258"
      },
      "execution_count": 70,
      "outputs": [
        {
          "output_type": "stream",
          "name": "stdout",
          "text": [
            "['hi', 1, [1, 2, [4, 5, 6]], 'a', [45, 'a']]\n",
            "length:5\n"
          ]
        }
      ]
    },
    {
      "cell_type": "code",
      "source": [
        "print(\"All Element after index 2:   {}\".format(list_example[2:]))\n",
        "print(\"All Element before index 3:   {}\".format(list_example[:3]))"
      ],
      "metadata": {
        "colab": {
          "base_uri": "https://localhost:8080/"
        },
        "id": "glB4B7fauo44",
        "outputId": "addc15bf-5c80-407e-f4d2-8475c4f53aa5"
      },
      "execution_count": 74,
      "outputs": [
        {
          "output_type": "stream",
          "name": "stdout",
          "text": [
            "All Element after index 2:   [[1, 2, [4, 5, 6]], 'a', [45, 'a']]\n",
            "All Element before index 3:   ['hi', 1, [1, 2, [4, 5, 6]]]\n"
          ]
        }
      ]
    },
    {
      "cell_type": "code",
      "source": [
        "list_example[2][0]='test'\n",
        "print(\"New modifiedd list:   {}\".format(list_example))"
      ],
      "metadata": {
        "colab": {
          "base_uri": "https://localhost:8080/"
        },
        "id": "q70BWQ2Iv7i5",
        "outputId": "9acd82cc-4932-4e1f-b150-81a066c461be"
      },
      "execution_count": 76,
      "outputs": [
        {
          "output_type": "stream",
          "name": "stdout",
          "text": [
            "New modifiedd list:   ['hi', 1, ['test', 2, [4, 5, 6]], 'a', [45, 'a']]\n"
          ]
        }
      ]
    },
    {
      "cell_type": "code",
      "source": [
        "test=[i*2 for i in list_example]\n",
        "print(test)"
      ],
      "metadata": {
        "colab": {
          "base_uri": "https://localhost:8080/"
        },
        "id": "Ual9zBTcJs_X",
        "outputId": "e5522ff9-980d-448c-e075-4839d97a791b"
      },
      "execution_count": 190,
      "outputs": [
        {
          "output_type": "stream",
          "name": "stdout",
          "text": [
            "['hihi', 2, [1, 2, [4, 5, 6], 1, 2, [4, 5, 6]], 'aa']\n"
          ]
        }
      ]
    },
    {
      "cell_type": "code",
      "source": [
        "#loop\n",
        "value=12\n",
        "list_test= [\"apple\", \"banana\", \"cherry\",2, value] \n",
        "for x in list_test:\n",
        "  print(x) "
      ],
      "metadata": {
        "colab": {
          "base_uri": "https://localhost:8080/"
        },
        "id": "oPBOC8iGTX5a",
        "outputId": "8de08ca3-c83c-4f3a-ceea-85cc77d616a8"
      },
      "execution_count": 234,
      "outputs": [
        {
          "output_type": "stream",
          "name": "stdout",
          "text": [
            "apple\n",
            "banana\n",
            "cherry\n",
            "2\n",
            "12\n"
          ]
        }
      ]
    },
    {
      "cell_type": "code",
      "source": [
        "#Additional   #List comprehension\n",
        "fruits = [\"apple\", \"banana\", \"cherry\", \"kiwi\", \"mango\"]\n",
        "nlist = []\n",
        "\n",
        "for x in fruits:\n",
        "  if \"a\" in x:\n",
        "    nlist.append(x)\n",
        "\n",
        "print(newlist) \n",
        "\n",
        "print(\"-----------------------------\")\n",
        "newlist = [x for x in fruits if \"a\" in x]\n",
        "print(newlist)\n",
        "\n",
        "print(\"-----------------------------\")\n",
        "newlist = [x for x in fruits if x != \"apple\"] \n",
        "print(newlist)  "
      ],
      "metadata": {
        "colab": {
          "base_uri": "https://localhost:8080/"
        },
        "id": "KqYXjeFHUizf",
        "outputId": "5a681870-395f-4e7e-c401-07b24a4ac68a"
      },
      "execution_count": 245,
      "outputs": [
        {
          "output_type": "stream",
          "name": "stdout",
          "text": [
            "['apple', 'banana', 'mango']\n",
            "-----------------------------\n",
            "['apple', 'banana', 'mango']\n",
            "-----------------------------\n",
            "['banana', 'cherry', 'kiwi', 'mango']\n"
          ]
        }
      ]
    },
    {
      "cell_type": "code",
      "source": [
        "#Sort List Alphanumerically\n",
        "thislist = [\"orange\", \"mango\", \"kiwi\", \"pineapple\", \"banana\"]\n",
        "thislist.sort()\n",
        "print(thislist)\n",
        "\n",
        "\n",
        "print(\"-----------------------------\")\n",
        "thislist = [100, 50, 65, 82, 23]\n",
        "thislist.sort()\n",
        "print(thislist)\n",
        "\n",
        "print(\"----------Descending order-------------------\")\n",
        "thislist.sort(reverse = True)\n",
        "print(thislist)\n"
      ],
      "metadata": {
        "colab": {
          "base_uri": "https://localhost:8080/"
        },
        "id": "9OLWg8ZIVCsw",
        "outputId": "a5459433-fd87-49a0-b725-2b23463a6159"
      },
      "execution_count": 257,
      "outputs": [
        {
          "output_type": "stream",
          "name": "stdout",
          "text": [
            "['banana', 'kiwi', 'mango', 'orange', 'pineapple']\n",
            "-----------------------------\n",
            "[23, 50, 65, 82, 100]\n",
            "----------Descending order-------------------\n",
            "[100, 82, 65, 50, 23]\n",
            "----------Customize Sort Function-------------------\n",
            "[65, 50, 82, 23, 100]\n",
            "----------Capital letter sort first-------------------\n",
            "['Kiwi', 'Orange', 'banana', 'cherry']\n"
          ]
        }
      ]
    },
    {
      "cell_type": "code",
      "source": [
        "print(\"----------Customize Sort Function-------------------\")\n",
        "def myfunc(n):\n",
        "  return abs(n - 60)\n",
        "\n",
        "thislist = [100, 50, 65, 82, 23]\n",
        "thislist.sort(key = myfunc)\n",
        "print(thislist)\n",
        "\n",
        "print(\"----------Capital letter sort first-------------------\")\n",
        "thislist = [\"banana\", \"Orange\", \"Kiwi\", \"cherry\"]\n",
        "thislist.sort()\n",
        "print(thislist)\n",
        "\n",
        "print(\"----------reverse list-------------------\")\n",
        "thislist.reverse()\n",
        "print(thislist)"
      ],
      "metadata": {
        "colab": {
          "base_uri": "https://localhost:8080/"
        },
        "id": "ub2UF_VWZffI",
        "outputId": "5f42a45a-6888-47c2-de20-2e4c35385c0c"
      },
      "execution_count": 259,
      "outputs": [
        {
          "output_type": "stream",
          "name": "stdout",
          "text": [
            "----------Customize Sort Function-------------------\n",
            "[65, 50, 82, 23, 100]\n",
            "----------Capital letter sort first-------------------\n",
            "['Kiwi', 'Orange', 'banana', 'cherry']\n",
            "----------reverse list-------------------\n",
            "['cherry', 'banana', 'Orange', 'Kiwi']\n"
          ]
        }
      ]
    },
    {
      "cell_type": "markdown",
      "source": [
        "\n",
        "   You **cannot** copy a list simply by typing **list2 = list1**, because: list2 will only be a reference to list1, and **changes made in list1** will **automatically** also be **made in list2**."
      ],
      "metadata": {
        "id": "HtOWL9VJZ90x"
      }
    },
    {
      "cell_type": "code",
      "source": [
        "thislist = [\"apple\", \"banana\", \"cherry\"]\n",
        "mylist = thislist.copy()\n",
        "print(mylist)"
      ],
      "metadata": {
        "colab": {
          "base_uri": "https://localhost:8080/"
        },
        "id": "-4LGVvR5Z8oT",
        "outputId": "eb8bd9f4-9197-4757-ce7e-3d5bef1df534"
      },
      "execution_count": 262,
      "outputs": [
        {
          "output_type": "stream",
          "name": "stdout",
          "text": [
            "['apple', 'banana', 'cherry']\n"
          ]
        }
      ]
    },
    {
      "cell_type": "code",
      "source": [
        "#List addition \n",
        "list1 = [\"a\", \"b\", \"c\"]\n",
        "list2 = [1, 2, 3]\n",
        "\n",
        "list3 = list1 + list2\n",
        "print(list3) \n",
        "\n",
        "print(\"----------other method-------------------\")\n",
        "for x in list2:\n",
        "  list1.append(x)           \n",
        "print(list1) \n",
        "\n",
        "print(\"----------other method-------------------\")\n",
        "list1.extend(list2)          \n",
        "print(list1) "
      ],
      "metadata": {
        "colab": {
          "base_uri": "https://localhost:8080/"
        },
        "id": "LwBQqpH2Y1j4",
        "outputId": "1b170e82-46b5-4449-fd8a-ddde29a00625"
      },
      "execution_count": 266,
      "outputs": [
        {
          "output_type": "stream",
          "name": "stdout",
          "text": [
            "['a', 'b', 'c', 1, 2, 3]\n",
            "----------other method-------------------\n",
            "['a', 'b', 'c', 1, 2, 3]\n",
            "----------other method-------------------\n",
            "['a', 'b', 'c', 1, 2, 3, 1, 2, 3]\n"
          ]
        }
      ]
    },
    {
      "cell_type": "markdown",
      "source": [
        "## **1.5 Tuples**"
      ],
      "metadata": {
        "id": "kgV90-pszv-p"
      }
    },
    {
      "cell_type": "code",
      "source": [
        "#tuple are unchangable \n",
        "tuple1 = (\"apple\", \"banana\", \"cherry\")\n",
        "tuple2 = (1, 5, 7, 9, 3)\n",
        "tuple3 = (True, False, False)\n",
        "print(\"tuple1: \",tuple1,\",Type:\",type(tuple1))\n",
        "print(\"tuple2: \",tuple2,\",Type:\",type(tuple2))\n",
        "print(\"tuple3: \",tuple3,\",Type:\",type(tuple3))"
      ],
      "metadata": {
        "colab": {
          "base_uri": "https://localhost:8080/"
        },
        "id": "MsyNQHoaoSzo",
        "outputId": "ea66fe0c-1591-4062-c7bb-7260032efef2"
      },
      "execution_count": 147,
      "outputs": [
        {
          "output_type": "stream",
          "name": "stdout",
          "text": [
            "tuple1:  ('apple', 'banana', 'cherry') ,Type: <class 'tuple'>\n",
            "tuple2:  (1, 5, 7, 9, 3) ,Type: <class 'tuple'>\n",
            "tuple3:  (True, False, False) ,Type: <class 'tuple'>\n",
            "tuple4:  ('apple',) ,Type: <class 'tuple'>\n",
            "not_tuple:  apple ,Type: <class 'str'>\n"
          ]
        }
      ]
    },
    {
      "cell_type": "code",
      "source": [
        "tuple4=(\"apple\",)                       #this is tuple ...... Note: \",\"is required\n",
        "tuple5=tuple((\"apple\"))      \n",
        "tuple5=tuple(\"apple\")                    #tuple with length 5........... Note:one bracket is missing\n",
        "not_tuple= (\"apple\")                    #this is not a tuple\n",
        "print(\"tuple4: \",tuple4,\",Type:\",type(tuple4))\n",
        "print(\"tuple5: \",tuple5,\",Type:\",type(tuple5))\n",
        "print(\"not_tuple: \",not_tuple,\",Type:\",type(not_tuple))"
      ],
      "metadata": {
        "colab": {
          "base_uri": "https://localhost:8080/"
        },
        "id": "waGmE1b__H9J",
        "outputId": "1e2c42b9-72bc-455b-ddda-d7b0b4a0b2e8"
      },
      "execution_count": 154,
      "outputs": [
        {
          "output_type": "stream",
          "name": "stdout",
          "text": [
            "tuple4:  ('apple',) ,Type: <class 'tuple'>\n",
            "tuple5:  ('a', 'p', 'p', 'l', 'e') ,Type: <class 'tuple'>\n",
            "not_tuple:  apple ,Type: <class 'str'>\n"
          ]
        }
      ]
    },
    {
      "cell_type": "code",
      "source": [
        "print(len(tuple5))"
      ],
      "metadata": {
        "colab": {
          "base_uri": "https://localhost:8080/"
        },
        "id": "_1NQ9pc5_oqB",
        "outputId": "37eaee5f-4fdc-4d3e-918a-222053ecde5b"
      },
      "execution_count": 151,
      "outputs": [
        {
          "output_type": "execute_result",
          "data": {
            "text/plain": [
              "5"
            ]
          },
          "metadata": {},
          "execution_count": 151
        }
      ]
    },
    {
      "cell_type": "code",
      "source": [
        "#indexing will be same as list\n",
        "print(tuple1[2])\n",
        "print(tuple1[:2])\n",
        "print(tuple1[2:])"
      ],
      "metadata": {
        "colab": {
          "base_uri": "https://localhost:8080/"
        },
        "id": "g-edicj1BH2r",
        "outputId": "6fcc28c4-a40f-4687-9eb5-200ce0e45a14"
      },
      "execution_count": 161,
      "outputs": [
        {
          "output_type": "stream",
          "name": "stdout",
          "text": [
            "cherry\n",
            "('apple', 'banana')\n",
            "('cherry',)\n"
          ]
        }
      ]
    },
    {
      "cell_type": "code",
      "source": [
        "thistuple = (\"apple\", \"banana\", \"cherry\",2,2.5)\n",
        "if \"apple\" in thistuple:\n",
        "  print(\"Yes, 'apple' is in the fruits tuple\") "
      ],
      "metadata": {
        "colab": {
          "base_uri": "https://localhost:8080/"
        },
        "id": "cb_fVh1qBt0A",
        "outputId": "8a587138-4aed-409d-c0c1-ca94f5ba4e39"
      },
      "execution_count": 210,
      "outputs": [
        {
          "output_type": "stream",
          "name": "stdout",
          "text": [
            "Yes, 'apple' is in the fruits tuple\n"
          ]
        }
      ]
    },
    {
      "cell_type": "markdown",
      "source": [
        "## **1.6 Range**"
      ],
      "metadata": {
        "id": "Immj39IyEMv3"
      }
    },
    {
      "cell_type": "code",
      "source": [
        "range=range(5)\n",
        "print(type(range))"
      ],
      "metadata": {
        "colab": {
          "base_uri": "https://localhost:8080/"
        },
        "id": "fkjbzeF8EO4y",
        "outputId": "87d69260-5de2-4721-841e-7c5bd3be9b02"
      },
      "execution_count": 164,
      "outputs": [
        {
          "output_type": "stream",
          "name": "stdout",
          "text": [
            "<class 'range'>\n"
          ]
        }
      ]
    },
    {
      "cell_type": "markdown",
      "source": [
        "## **1.7 Dictionaries**"
      ],
      "metadata": {
        "id": "MO5-xR2pj7zY"
      }
    },
    {
      "cell_type": "code",
      "source": [
        "item2, item3='hi' , 65         #Mapping type data type\n",
        "dr=2\n",
        "dict = {'key1':[45.1,2],'key2':item2,'key3':'item2','key3':item3,dr:63}  #key= any string, variable(must be defined), int, float\n",
        "                                                                         #item= any string, variable(must be defined), int, float\n",
        "print(dict)\n",
        "print(dict['key3'])\n",
        "print(5+dict['key3'])"
      ],
      "metadata": {
        "colab": {
          "base_uri": "https://localhost:8080/"
        },
        "id": "iT_ADG55wc4Q",
        "outputId": "d04c8b2a-6616-4b0d-8dfb-f06452fc3e6d"
      },
      "execution_count": 141,
      "outputs": [
        {
          "output_type": "stream",
          "name": "stdout",
          "text": [
            "{'key1': [45.1, 2], 'key2': 'hi', 'key3': 65, 2: 63}\n",
            "65\n",
            "70\n"
          ]
        }
      ]
    },
    {
      "cell_type": "code",
      "source": [
        "print(dict[dr],dict[2])"
      ],
      "metadata": {
        "colab": {
          "base_uri": "https://localhost:8080/"
        },
        "id": "VGRzfVIkyizG",
        "outputId": "d5b32641-b54d-42d7-8463-b92bd9bd0fca"
      },
      "execution_count": 165,
      "outputs": [
        {
          "output_type": "stream",
          "name": "stdout",
          "text": [
            "63 63 <class 'dict'>\n"
          ]
        }
      ]
    },
    {
      "cell_type": "code",
      "source": [
        "print(type(dict['key1']),type(dict['key2']))\n",
        "print(type(dict))"
      ],
      "metadata": {
        "colab": {
          "base_uri": "https://localhost:8080/"
        },
        "id": "PkS3Wsk_Is8p",
        "outputId": "bd7310bf-3244-4cf0-aa0f-531b71a103e0"
      },
      "execution_count": 174,
      "outputs": [
        {
          "output_type": "stream",
          "name": "stdout",
          "text": [
            "<class 'list'> <class 'str'>\n",
            "<class 'dict'>\n"
          ]
        }
      ]
    },
    {
      "cell_type": "markdown",
      "source": [
        "## **1.8 Booleans**"
      ],
      "metadata": {
        "id": "KF5omyJ4wcdZ"
      }
    },
    {
      "cell_type": "code",
      "source": [
        "bool1, bool2=True, False                         #Boolean type datatype\n",
        "print(bool1,bool2)\n",
        "print(\"Type:{}\".format(type(bool1)))"
      ],
      "metadata": {
        "colab": {
          "base_uri": "https://localhost:8080/"
        },
        "id": "mhlOZztxzvnK",
        "outputId": "073cf13a-4f25-4c9a-e154-66a5aa7e8b5a"
      },
      "execution_count": 142,
      "outputs": [
        {
          "output_type": "stream",
          "name": "stdout",
          "text": [
            "True False\n",
            "Type:<class 'bool'>\n"
          ]
        }
      ]
    },
    {
      "cell_type": "markdown",
      "source": [
        "## **1.9 Comparison Operators**"
      ],
      "metadata": {
        "id": "ws3uREsA9iXZ"
      }
    },
    {
      "cell_type": "code",
      "source": [
        "c1,c2,c3,c4,c5=1>2,2<5,5>=5,6<=2,2==2\n",
        "print(c1, c2, c3, c4,c5)"
      ],
      "metadata": {
        "colab": {
          "base_uri": "https://localhost:8080/"
        },
        "id": "Ts4Xa7Ff9iro",
        "outputId": "e9e19018-dca0-46cd-a7f2-9fbeaff6c026"
      },
      "execution_count": 159,
      "outputs": [
        {
          "output_type": "stream",
          "name": "stdout",
          "text": [
            "False True True False True\n"
          ]
        }
      ]
    },
    {
      "cell_type": "markdown",
      "source": [
        "\n",
        "\n",
        "## **1.10 Sets**\n",
        "\n"
      ],
      "metadata": {
        "id": "lx4dC7z6APag"
      }
    },
    {
      "cell_type": "markdown",
      "source": [
        "    A set is a collection which is unordered, unchangeable*, and unindexed*.\n",
        "    Note: It is unchangeable but we can add and remove items which is not possible in tuple"
      ],
      "metadata": {
        "id": "jcNMLDgWMX9n"
      }
    },
    {
      "cell_type": "code",
      "source": [
        "value=2.4\n",
        "set = {\"apple\", \"banana\", \"cherry\",2, value}         #Duplicates not allowed as\n",
        "print(set) "
      ],
      "metadata": {
        "colab": {
          "base_uri": "https://localhost:8080/"
        },
        "id": "xJ_sknjFCL2R",
        "outputId": "3dc5e7e0-0bd4-4930-d582-e2641f0e3ab7"
      },
      "execution_count": 207,
      "outputs": [
        {
          "output_type": "stream",
          "name": "stdout",
          "text": [
            "{2.4, 2, 'cherry', 'apple', 'banana'}\n"
          ]
        }
      ]
    },
    {
      "cell_type": "code",
      "source": [
        "print(type(set))"
      ],
      "metadata": {
        "colab": {
          "base_uri": "https://localhost:8080/"
        },
        "id": "gC7TMelGMo5U",
        "outputId": "49774452-5e05-49b8-b811-2cc692dc3ee6"
      },
      "execution_count": 208,
      "outputs": [
        {
          "output_type": "stream",
          "name": "stdout",
          "text": [
            "<class 'set'>\n"
          ]
        }
      ]
    },
    {
      "cell_type": "code",
      "source": [
        "set = {\"apple\", \"banana\", \"cherry\",2}  \n",
        "set.add(\"orange\")      #add item\n",
        "print(set) \n",
        "set1={\"curd\", \"milk\"}\n",
        "set.update(set1)      #Adding another set\n",
        "print(set) "
      ],
      "metadata": {
        "colab": {
          "base_uri": "https://localhost:8080/"
        },
        "id": "DTFvozz0OODI",
        "outputId": "3009e962-c8a7-4698-8e52-759bae1ed478"
      },
      "execution_count": 222,
      "outputs": [
        {
          "output_type": "stream",
          "name": "stdout",
          "text": [
            "{2, 'cherry', 'orange', 'apple', 'banana'}\n",
            "{2, 'cherry', 'curd', 'milk', 'orange', 'apple', 'banana'}\n"
          ]
        }
      ]
    },
    {
      "cell_type": "code",
      "source": [
        "value=12\n",
        "set = {\"apple\", \"banana\", \"cherry\",2, value}  \n",
        "mylist = [\"kiwi\", \"orange\"]   \n",
        "dictset={'k':256}   \n",
        "set.update(set1)      #Any list, tuple, dictionary could be add\n",
        "set.update(dictset)\n",
        "print(set) "
      ],
      "metadata": {
        "colab": {
          "base_uri": "https://localhost:8080/"
        },
        "id": "IK_IXqgHPO64",
        "outputId": "75678c04-c622-4f90-ccc6-37aa49532b1c"
      },
      "execution_count": 223,
      "outputs": [
        {
          "output_type": "stream",
          "name": "stdout",
          "text": [
            "{2, 'cherry', 'curd', 'milk', 'k', 12, 'apple', 'banana'}\n"
          ]
        }
      ]
    },
    {
      "cell_type": "code",
      "source": [
        "value=12\n",
        "set = {\"apple\", \"banana\", \"cherry\",2, value}  \n",
        "set.remove(\"banana\")    #If the item to remove does not exist, remove() will raise an error.\n",
        "set.discard(\"banana\")   #If the item to remove does not exist, discard() will NOT raise an error.\n",
        "print(set)   "
      ],
      "metadata": {
        "colab": {
          "base_uri": "https://localhost:8080/"
        },
        "id": "PLEBNqP9QH_Z",
        "outputId": "779ea86c-3a5c-49bc-cda7-808daffbf48a"
      },
      "execution_count": 228,
      "outputs": [
        {
          "output_type": "stream",
          "name": "stdout",
          "text": [
            "{2, 'cherry', 12, 'apple'}\n"
          ]
        }
      ]
    },
    {
      "cell_type": "code",
      "source": [
        "value=12\n",
        "set1 = {\"apple\", \"banana\", \"cherry\",2, value}\n",
        "print(set1)  \n",
        "pop=set1.pop()  \n",
        "print(pop)\n",
        "print(set1)                   "
      ],
      "metadata": {
        "colab": {
          "base_uri": "https://localhost:8080/"
        },
        "id": "VkrM_Q4qQ0gQ",
        "outputId": "e37f7709-1829-4093-9462-2c572483181a"
      },
      "execution_count": 280,
      "outputs": [
        {
          "output_type": "stream",
          "name": "stdout",
          "text": [
            "{2, 'cherry', 12, 'apple', 'banana'}\n",
            "2\n",
            "{'cherry', 12, 'apple', 'banana'}\n"
          ]
        }
      ]
    },
    {
      "cell_type": "code",
      "source": [
        "type(set1)"
      ],
      "metadata": {
        "colab": {
          "base_uri": "https://localhost:8080/"
        },
        "id": "NE7u5w-XhNTv",
        "outputId": "f46cfe47-ede6-4e5f-bc20-87c977b5f25e"
      },
      "execution_count": 281,
      "outputs": [
        {
          "output_type": "execute_result",
          "data": {
            "text/plain": [
              "set"
            ]
          },
          "metadata": {},
          "execution_count": 281
        }
      ]
    },
    {
      "cell_type": "markdown",
      "source": [
        "# **2. Control Structures**"
      ],
      "metadata": {
        "id": "zH-6pK-QNSHG"
      }
    },
    {
      "cell_type": "code",
      "source": [],
      "metadata": {
        "id": "dacOPZssNs1F",
        "colab": {
          "base_uri": "https://localhost:8080/",
          "height": 169
        },
        "outputId": "0d5fefb0-1247-4093-949b-3e4a7945747c"
      },
      "execution_count": 17,
      "outputs": [
        {
          "output_type": "error",
          "ename": "AttributeError",
          "evalue": "ignored",
          "traceback": [
            "\u001b[0;31m---------------------------------------------------------------------------\u001b[0m",
            "\u001b[0;31mAttributeError\u001b[0m                            Traceback (most recent call last)",
            "\u001b[0;32m<ipython-input-17-91379f63598f>\u001b[0m in \u001b[0;36m<module>\u001b[0;34m\u001b[0m\n\u001b[0;32m----> 1\u001b[0;31m \u001b[0mname_of_var\u001b[0m\u001b[0;34m.\u001b[0m\u001b[0msize\u001b[0m\u001b[0;34m(\u001b[0m\u001b[0;34m)\u001b[0m\u001b[0;34m\u001b[0m\u001b[0;34m\u001b[0m\u001b[0m\n\u001b[0m",
            "\u001b[0;31mAttributeError\u001b[0m: 'int' object has no attribute 'size'"
          ]
        }
      ]
    },
    {
      "cell_type": "markdown",
      "source": [
        "# **4. Object-Oriented Programming**"
      ],
      "metadata": {
        "id": "dFwTBi_hNTk2"
      }
    },
    {
      "cell_type": "code",
      "source": [],
      "metadata": {
        "id": "3Sd-2lwSNt3_"
      },
      "execution_count": null,
      "outputs": []
    },
    {
      "cell_type": "markdown",
      "source": [
        "# **3. Functions**"
      ],
      "metadata": {
        "id": "dlWREBRiNTTl"
      }
    },
    {
      "cell_type": "code",
      "source": [],
      "metadata": {
        "id": "KqQUNnN1NtR9"
      },
      "execution_count": null,
      "outputs": []
    },
    {
      "cell_type": "markdown",
      "source": [
        "# **5. File I/O and Libraries**"
      ],
      "metadata": {
        "id": "G-wBVlJ0NT4u"
      }
    },
    {
      "cell_type": "code",
      "source": [],
      "metadata": {
        "id": "BcxX4XGANuWu"
      },
      "execution_count": null,
      "outputs": []
    }
  ]
}