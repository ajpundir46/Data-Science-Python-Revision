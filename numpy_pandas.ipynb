{
  "nbformat": 4,
  "nbformat_minor": 0,
  "metadata": {
    "colab": {
      "provenance": [],
      "authorship_tag": "ABX9TyOrl+oKxd3g6bPMKrFH7fUq",
      "include_colab_link": true
    },
    "kernelspec": {
      "name": "python3",
      "display_name": "Python 3"
    },
    "language_info": {
      "name": "python"
    }
  },
  "cells": [
    {
      "cell_type": "markdown",
      "metadata": {
        "id": "view-in-github",
        "colab_type": "text"
      },
      "source": [
        "<a href=\"https://colab.research.google.com/github/ajpundir46/Data-Science-Python-Revision/blob/main/numpy_pandas.ipynb\" target=\"_parent\"><img src=\"https://colab.research.google.com/assets/colab-badge.svg\" alt=\"Open In Colab\"/></a>"
      ]
    },
    {
      "cell_type": "markdown",
      "source": [
        "## Numpy"
      ],
      "metadata": {
        "id": "siGiu5-qd3N3"
      }
    },
    {
      "cell_type": "markdown",
      "source": [
        "### Theory"
      ],
      "metadata": {
        "id": "uPvYyK_MeLTg"
      }
    },
    {
      "cell_type": "markdown",
      "source": [
        "- Array Creation:\n",
        "  - `numpy.array`: Create an array from a list or tuple.\n",
        "  - `numpy.zeros`: Create an array filled with zeros.\n",
        "  - `numpy.ones`: Create an array filled with ones.\n",
        "  - `numpy.empty`: Create an array without initializing its elements.\n",
        "  - `numpy.arange`: Create an array with values within a specified range.\n",
        "  - `numpy.linspace`: Create an array with a specified number of evenly spaced values.\n",
        "\n",
        "- Array Operations:\n",
        "  - `numpy.shape`: Return the dimensions of an array.\n",
        "  - `numpy.reshape`: Reshape an array into a specified shape.\n",
        "  - `numpy.concatenate`: Join arrays along an existing axis.\n",
        "  - `numpy.split`: Split an array into multiple sub-arrays.\n",
        "  - `numpy.transpose`: Permute the dimensions of an array.\n",
        "  - `numpy.vstack`: Stack arrays vertically.\n",
        "  - `numpy.hstack`: Stack arrays horizontally.\n",
        "\n",
        "- Mathematical Functions:\n",
        "  - `numpy.sum`: Compute the sum of array elements.\n",
        "  - `numpy.mean`: Compute the mean of array elements.\n",
        "  - `numpy.median`: Compute the median of array elements.\n",
        "  - `numpy.std`: Compute the standard deviation of array elements.\n",
        "  - `numpy.var`: Compute the variance of array elements.\n",
        "  - `numpy.min`: Find the minimum value in an array.\n",
        "  - `numpy.max`: Find the maximum value in an array.\n",
        "  - `numpy.exp`: Compute the exponential of all elements in an array.\n",
        "  - `numpy.log`: Compute the natural logarithm of all elements in an array.\n",
        "  - `numpy.sin`: Compute the sine of all elements in an array.\n",
        "  - `numpy.cos`: Compute the cosine of all elements in an array.\n",
        "\n",
        "- Array Indexing and Slicing:\n",
        "  - `numpy.shape`: Return the dimensions of an array.\n",
        "  - `numpy.ndim`: Return the number of array dimensions.\n",
        "  - `numpy.size`: Return the number of elements in an array.\n",
        "  - `numpy.reshape`: Reshape an array into a specified shape.\n",
        "  - `numpy.ravel`: Flatten an array.\n",
        "  - `numpy.transpose`: Permute the dimensions of an array.\n",
        "  - `numpy.squeeze`: Remove single-dimensional entries from an array.\n",
        "  - `numpy.take`: Return elements at specified indices.\n",
        "  - `numpy.put`: Replace specified elements in an array."
      ],
      "metadata": {
        "id": "wUxqJob8dqJg"
      }
    },
    {
      "cell_type": "markdown",
      "source": [
        "### Code"
      ],
      "metadata": {
        "id": "E8ck-jEfeQ6V"
      }
    },
    {
      "cell_type": "code",
      "execution_count": null,
      "metadata": {
        "id": "RfbiHvdodadV"
      },
      "outputs": [],
      "source": [
        "import numpy as np\n",
        "#Array Creations\n",
        "arr1=np.array([1,2,3,4,5,6])\n",
        "arr2=np.zeros(5)\n",
        "arr3=np.ones((3,3))\n",
        "arr4=np.empty(2)\n",
        "arr5=np.arange(0,10,2)\n",
        "arr6=np.linspace(0,1,5)\n",
        "print('arr1={},\\narr2={}\\narr3={},\\narr4={},\\narr5={},\\narr6={}'.format(arr1,arr2,arr3,arr4,arr5,arr6))\n",
        "print(type(arr1))"
      ]
    },
    {
      "cell_type": "code",
      "source": [
        "#Array Operations\n",
        "print(\"Shape of array 1:\", np.shape(arr1))\n",
        "print(\"Reshape arr1:\",np.reshape(arr1,(3,2)))\n",
        "print(\"Concattenated arrays:\",np.concatenate((arr1,arr2),axis=0)) # axis=1 for vertical concattenation\n",
        "print(\"Split Array:\",np.split(arr1,3)) #must be equal division\n",
        "a,b,c=np.split(arr1,3)\n",
        "print(\"Transposed:\",np.transpose(arr1))\n",
        "print(\"Vertical stacked array:\",np.vstack((arr6,arr2)))\n",
        "print(\"Horizontal stacked:\",np.stack((arr2,arr6)))"
      ],
      "metadata": {
        "colab": {
          "base_uri": "https://localhost:8080/"
        },
        "id": "DJ_jeonzhc38",
        "outputId": "ab94312e-72e0-4c75-f44a-233901bb0d4a"
      },
      "execution_count": 42,
      "outputs": [
        {
          "output_type": "stream",
          "name": "stdout",
          "text": [
            "Shape of array 1: (6,)\n",
            "Reshape arr1: [[1 2]\n",
            " [3 4]\n",
            " [5 6]]\n",
            "Concattenated arrays: [1. 2. 3. 4. 5. 6. 0. 0. 0. 0. 0.]\n",
            "Split Array: [array([1, 2]), array([3, 4]), array([5, 6])]\n",
            "Transposed: [1 2 3 4 5 6]\n",
            "Vertical stacked array: [[0.   0.25 0.5  0.75 1.  ]\n",
            " [0.   0.   0.   0.   0.  ]]\n",
            "Horizontal stacked: [[0.   0.   0.   0.   0.  ]\n",
            " [0.   0.25 0.5  0.75 1.  ]]\n"
          ]
        }
      ]
    },
    {
      "cell_type": "code",
      "source": [
        "a=[1,2,2]\n",
        "print(sum(a))"
      ],
      "metadata": {
        "colab": {
          "base_uri": "https://localhost:8080/"
        },
        "id": "yFxTytO2jeib",
        "outputId": "13875023-3b7b-4c73-e0e4-537b052bdb1f"
      },
      "execution_count": 44,
      "outputs": [
        {
          "output_type": "stream",
          "name": "stdout",
          "text": [
            "5\n"
          ]
        }
      ]
    },
    {
      "cell_type": "markdown",
      "source": [
        "## Panadas"
      ],
      "metadata": {
        "id": "xLFJaiY5eAf9"
      }
    },
    {
      "cell_type": "markdown",
      "source": [],
      "metadata": {
        "id": "mlNfOMM7eGtO"
      }
    },
    {
      "cell_type": "code",
      "source": [],
      "metadata": {
        "id": "W9OZT3BteFu1"
      },
      "execution_count": null,
      "outputs": []
    }
  ]
}